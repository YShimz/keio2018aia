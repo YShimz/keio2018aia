{
  "cells": [
    {
      "cell_type": "markdown",
      "source": [
        "# imports"
      ],
      "metadata": {}
    },
    {
      "cell_type": "code",
      "source": [
        "import torch\n",
        "import torch.utils.data\n",
        "from torch import nn\n",
        "from torch.autograd import Variable\n",
        "import numpy as np\n",
        "import matplotlib.pyplot as plt\n",
        "%matplotlib inline\n",
        "from pylab import rcParams\n",
        "rcParams['figure.figsize'] = 15, 10"
      ],
      "outputs": [],
      "execution_count": 1,
      "metadata": {}
    },
    {
      "cell_type": "markdown",
      "source": [
        "# data set"
      ],
      "metadata": {}
    },
    {
      "cell_type": "code",
      "source": [
        "inputs = np.linspace(-2*np.pi, 2*np.pi, 1000)[:, None]\n",
        "outputs = np.sin(inputs) + 0.05*np.random.normal(size=[len(inputs), 1])\n",
        "data = list(zip(inputs, outputs))"
      ],
      "outputs": [],
      "execution_count": null,
      "metadata": {}
    },
    {
      "cell_type": "code",
      "source": [
        "plt.scatter(inputs[:, 0], outputs[:, 0], s=0.1, color='k', marker='o')"
      ],
      "outputs": [],
      "execution_count": null,
      "metadata": {}
    },
    {
      "cell_type": "markdown",
      "source": [
        "# model"
      ],
      "metadata": {}
    },
    {
      "cell_type": "code",
      "source": [
        "class Model(nn.Module):\n",
        "    \n",
        "    def __init__(self, input_dim, hidden1_dim, hidden2_dim, output_dim):\n",
        "        \n",
        "        super(Model, self).__init__()\n",
        "        \n",
        "        self.hl1 = nn.Linear(input_dim, hidden1_dim)\n",
        "        self.hl1a = nn.ReLU()\n",
        "        self.layer1 = [self.hl1, self.hl1a]\n",
        "        \n",
        "        self.hl2 = nn.Linear(hidden1_dim, hidden2_dim)\n",
        "        self.hl2a = nn.ReLU()\n",
        "        self.layer2 = [self.hl2, self.hl2a]\n",
        "        \n",
        "        self.ol = nn.Linear(hidden2_dim, output_dim)\n",
        "        self.ola = (lambda x: x)\n",
        "        self.layer3 = [self.ol, self.ola]\n",
        "        \n",
        "        self.layers = [self.layer1, self.layer2, self.layer3]\n",
        "        \n",
        "    def forward(self, x):\n",
        "        \n",
        "        out = x\n",
        "        \n",
        "        for pa, a in self.layers:\n",
        "            \n",
        "            out = a(pa(out))\n",
        "        \n",
        "        return out"
      ],
      "outputs": [],
      "execution_count": null,
      "metadata": {}
    },
    {
      "cell_type": "code",
      "source": [
        "model = Model(1, 20, 20, 1)\n",
        "model.double()"
      ],
      "outputs": [],
      "execution_count": null,
      "metadata": {}
    },
    {
      "cell_type": "code",
      "source": [
        "plt.scatter(inputs, outputs, c='k', marker='o', s=0.1)\n",
        "plt.scatter(inputs, model(torch.tensor(inputs)).detach().numpy().flatten(), c='r', marker='o', s=0.1)"
      ],
      "outputs": [],
      "execution_count": null,
      "metadata": {
        "collapsed": false,
        "outputHidden": false,
        "inputHidden": false
      }
    },
    {
      "cell_type": "markdown",
      "source": [
        "# trainer"
      ],
      "metadata": {}
    },
    {
      "cell_type": "code",
      "source": [
        "class Trainer():\n",
        "    \n",
        "    def __init__(self, model, data):\n",
        "        \n",
        "        self.model = model\n",
        "        self.data = data\n",
        "        \n",
        "        self.train_loader = torch.utils.data.DataLoader(dataset=self.data, batch_size=8, shuffle=True)\n",
        "        \n",
        "    def train(self, lr, ne):\n",
        "        \n",
        "        criterion = nn.MSELoss()\n",
        "        optimizer = torch.optim.SGD(self.model.parameters(), lr=lr, momentum=0.1)\n",
        "\n",
        "        self.model.train()\n",
        "        \n",
        "        self.costs = []\n",
        "        \n",
        "        for e in range(ne):\n",
        "            \n",
        "            print('training epoch %d / %d ...' %(e+1, ne))\n",
        "            \n",
        "            train_cost = 0\n",
        "        \n",
        "            for batch_idx, (inputs, targets) in enumerate(self.train_loader):\n",
        "\n",
        "                inputs = Variable(inputs)\n",
        "                targets = Variable(targets)\n",
        "\n",
        "                optimizer.zero_grad()\n",
        "                outputs = self.model(inputs)\n",
        "                loss = criterion(outputs, targets)\n",
        "                train_cost += loss\n",
        "                loss.backward()\n",
        "                optimizer.step()\n",
        "                \n",
        "            self.costs.append(train_cost/len(data))\n",
        "            print('cost: %f' %(self.costs[-1]))"
      ],
      "outputs": [],
      "execution_count": null,
      "metadata": {}
    },
    {
      "cell_type": "code",
      "source": [
        "trainer = Trainer(model, data)"
      ],
      "outputs": [],
      "execution_count": null,
      "metadata": {}
    },
    {
      "cell_type": "markdown",
      "source": [
        "# learning"
      ],
      "metadata": {}
    },
    {
      "cell_type": "code",
      "source": [
        "trainer.train(0.001, 500)"
      ],
      "outputs": [],
      "execution_count": null,
      "metadata": {}
    },
    {
      "cell_type": "code",
      "source": [
        "plt.plot(range(len(trainer.costs)), trainer.costs)"
      ],
      "outputs": [],
      "execution_count": null,
      "metadata": {}
    },
    {
      "cell_type": "markdown",
      "source": [
        "# results"
      ],
      "metadata": {}
    },
    {
      "cell_type": "code",
      "source": [
        "plt.scatter(inputs, outputs, c='k', marker='o', s=0.1)\n",
        "plt.scatter(inputs, model(torch.tensor(inputs)).detach().numpy().flatten(), c='r', marker='o', s=0.1)"
      ],
      "outputs": [],
      "execution_count": null,
      "metadata": {}
    },
    {
      "cell_type": "code",
      "source": [],
      "outputs": [],
      "execution_count": null,
      "metadata": {}
    }
  ],
  "metadata": {
    "kernelspec": {
      "name": "python3",
      "language": "python",
      "display_name": "Python 3"
    },
    "language_info": {
      "name": "python",
      "version": "3.6.1",
      "mimetype": "text/x-python",
      "codemirror_mode": {
        "name": "ipython",
        "version": 3
      },
      "pygments_lexer": "ipython3",
      "nbconvert_exporter": "python",
      "file_extension": ".py"
    },
    "kernel_info": {
      "name": "python3"
    },
    "nteract": {
      "version": "0.12.3"
    }
  },
  "nbformat": 4,
  "nbformat_minor": 2
}