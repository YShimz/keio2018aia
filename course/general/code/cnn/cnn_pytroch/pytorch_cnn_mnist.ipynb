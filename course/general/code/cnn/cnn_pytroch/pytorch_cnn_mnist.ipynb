{
  "cells": [
    {
      "cell_type": "markdown",
      "source": [
        "### CNN - digits recognition"
      ],
      "metadata": {}
    },
    {
      "cell_type": "code",
      "source": [
        "import torch\n",
        "import torch.cuda as cuda\n",
        "import torch.nn as nn\n",
        "import matplotlib.pyplot as plt\n",
        "\n",
        "from torch.autograd import Variable\n",
        "\n",
        "# Torchvision module contains various utilities, classes, models and datasets \n",
        "from torchvision import datasets\n",
        "from torchvision import transforms\n",
        "\n",
        "# Functional module contains helper functions\n",
        "import torch.nn.functional as F"
      ],
      "outputs": [],
      "execution_count": 1,
      "metadata": {}
    },
    {
      "cell_type": "markdown",
      "source": [
        "**Create the DataLoaders**"
      ],
      "metadata": {}
    },
    {
      "cell_type": "code",
      "source": [
        "# Mean and standard deviation of all the pixels in the MNIST dataset\n",
        "mean_gray = 0.1307\n",
        "stddev_gray = 0.3081\n",
        "\n",
        "transform=transforms.Compose([transforms.ToTensor(),\n",
        "                              transforms.Normalize((mean_gray,), (stddev_gray,))])\n",
        "\n",
        "mnist_train = datasets.MNIST('./data', train=True, download=True, transform=transform)\n",
        "mnist_valid = datasets.MNIST('./data', train=False, download=True, transform=transform)"
      ],
      "outputs": [],
      "execution_count": 2,
      "metadata": {}
    },
    {
      "cell_type": "code",
      "source": [
        "img = mnist_train[12][0].numpy() * stddev_gray + mean_gray"
      ],
      "outputs": [],
      "execution_count": 3,
      "metadata": {}
    },
    {
      "cell_type": "code",
      "source": [
        "plt.imshow(img.reshape(28, 28), cmap='gray')\n",
        "# Note that each image is 28 x 28 pixels"
      ],
      "outputs": [
        {
          "output_type": "execute_result",
          "execution_count": 4,
          "data": {
            "text/plain": [
              "<matplotlib.image.AxesImage at 0x7fea0c2476a0>"
            ]
          },
          "metadata": {}
        },
        {
          "output_type": "display_data",
          "data": {
            "image/png": "[encoded data removed]",
            "text/plain": [
              "<matplotlib.figure.Figure at 0x7fea179b3b70>"
            ]
          },
          "metadata": {}
        }
      ],
      "execution_count": 4,
      "metadata": {}
    },
    {
      "cell_type": "code",
      "source": [
        "label = mnist_train[12][1]\n",
        "label"
      ],
      "outputs": [
        {
          "output_type": "execute_result",
          "execution_count": 5,
          "data": {
            "text/plain": [
              "3"
            ]
          },
          "metadata": {}
        }
      ],
      "execution_count": 5,
      "metadata": {}
    },
    {
      "cell_type": "code",
      "source": [
        "batch_size = 1024 # Reduce this if you get out-of-memory error"
      ],
      "outputs": [],
      "execution_count": 6,
      "metadata": {}
    },
    {
      "cell_type": "code",
      "source": [
        "mnist_train_loader = torch.utils.data.DataLoader(mnist_train, batch_size=batch_size, shuffle=True, num_workers=1)\n",
        "mnist_valid_loader = torch.utils.data.DataLoader(mnist_valid, batch_size=batch_size, shuffle=True, num_workers=1)"
      ],
      "outputs": [],
      "execution_count": 7,
      "metadata": {}
    },
    {
      "cell_type": "markdown",
      "source": [
        "**Create the model**"
      ],
      "metadata": {}
    },
    {
      "cell_type": "markdown",
      "source": [
        "**Dropout**:\n",
        "\n",
        "* A regularization technique: i.e. a technique to prevent overfitting, where the model becomes really good on the training dataset, but poor on the validation/testing dataset (unseen data)\n",
        "* Randomly selected neurons are \"switched off\" or prevented from firing during each pass\n",
        "* Thus, at every iteration, the model works with n% of it's neurons missing, where n is specified in the dropout layer (typically 0.5 or 50%)\n",
        "* The result of this is that when random neurons are dropped, the alive neurons have to step in to generate the correct representation to decrease the loss function\n",
        "* Thus the network becomes less sensitive to the weights of a selective few neurons, and become better at generalizing the features without overfitting the training data\n",
        "\n",
        "Paper: [http://jmlr.org/papers/v15/srivastava14a.html](http://jmlr.org/papers/v15/srivastava14a.html)\n",
        "\n![dropout.png](./dropout.png)"
      ],
      "metadata": {}
    },
    {
      "cell_type": "code",
      "source": [
        "class MNISTNet(nn.Module):\n",
        "    \n",
        "    def __init__(self):\n",
        "        super().__init__()\n",
        "               \n",
        "        # NOTE: All Conv2d layers have a default padding of 0 and stride of 1,\n",
        "        # which is what we are using.\n",
        "        \n",
        "        # Convolution Layer 1                             # 28 x 28 x 1  (input)\n",
        "        self.conv1 = nn.Conv2d(1, 20, kernel_size=5)      # 24 x 24 x 20  (after 1st convolution)\n",
        "        self.relu1 = nn.ReLU()                            # Same as above\n",
        "        \n",
        "        # Convolution Layer 2\n",
        "        self.conv2 = nn.Conv2d(20, 30, kernel_size=5)     # 20 x 20 x 30  (after 2nd convolution)\n",
        "        self.conv2_drop = nn.Dropout2d(p=0.5)             # Same as above\n",
        "        self.maxpool2 = nn.MaxPool2d(2)                   # 10 x 10 x 30  (after pooling)\n",
        "        self.relu2 = nn.ReLU()                            # Same as above \n",
        "        \n",
        "        # Fully connected layers\n",
        "        self.fc1 = nn.Linear(3000, 500)\n",
        "        self.fc2 = nn.Linear(500, 10)\n",
        "\n",
        "    def forward(self, x):\n",
        "        \n",
        "        # Convolution Layer 1                    \n",
        "        x = self.conv1(x)                        \n",
        "        x = self.relu1(x)                        \n",
        "        \n",
        "        # Convolution Layer 2\n",
        "        x = self.conv2(x)               \n",
        "        x = self.conv2_drop(x)\n",
        "        x = self.maxpool2(x)\n",
        "        x = self.relu2(x)\n",
        "        \n",
        "        # Switch from activation maps to vectors\n",
        "        x = x.view(-1, 3000)\n",
        "        \n",
        "        # Fully connected layer 1\n",
        "        x = self.fc1(x)\n",
        "        x = F.relu(x)\n",
        "        x = F.dropout(x, training=True)\n",
        "        \n",
        "        # Fully connected layer 2\n",
        "        x = self.fc2(x)\n",
        "        \n",
        "        return x"
      ],
      "outputs": [],
      "execution_count": 8,
      "metadata": {}
    },
    {
      "cell_type": "markdown",
      "source": [
        "**Create the objects**"
      ],
      "metadata": {}
    },
    {
      "cell_type": "code",
      "source": [
        "# The model\n",
        "net = MNISTNet()\n",
        "\n",
        "if cuda.is_available():\n",
        "    net = net.cuda()\n",
        "\n",
        "# Our loss function\n",
        "criterion = nn.CrossEntropyLoss()\n",
        "\n",
        "# Our optimizer\n",
        "learning_rate = 0.01\n",
        "optimizer = torch.optim.SGD(net.parameters(), lr=learning_rate, momentum=0.9) "
      ],
      "outputs": [],
      "execution_count": 9,
      "metadata": {}
    },
    {
      "cell_type": "markdown",
      "source": [
        "**Training loop**"
      ],
      "metadata": {}
    },
    {
      "cell_type": "code",
      "source": [
        "num_epochs = 100\n",
        "\n",
        "train_loss = []\n",
        "valid_loss = []\n",
        "train_accuracy = []\n",
        "valid_accuracy = []\n",
        "\n",
        "for epoch in range(num_epochs):\n",
        "    \n",
        "    ############################\n",
        "    # Train\n",
        "    ############################\n",
        "    \n",
        "    iter_loss = 0.0\n",
        "    correct = 0\n",
        "    iterations = 0\n",
        "    \n",
        "    net.train()                   # Put the network into training mode\n",
        "    \n",
        "    for i, (items, classes) in enumerate(mnist_train_loader):\n",
        "        \n",
        "        # Convert torch tensor to Variable\n",
        "        items = Variable(items)\n",
        "        classes = Variable(classes)\n",
        "        \n",
        "        # If we have GPU, shift the data to GPU\n",
        "        if cuda.is_available():\n",
        "            items = items.cuda()\n",
        "            classes = classes.cuda()\n",
        "        \n",
        "        optimizer.zero_grad()     # Clear off the gradients from any past operation\n",
        "        outputs = net(items)      # Do the forward pass\n",
        "        loss = criterion(outputs, classes) # Calculate the loss\n",
        "        iter_loss += loss.data[0] # Accumulate the loss\n",
        "        loss.backward()           # Calculate the gradients with help of back-propagation\n",
        "        optimizer.step()          # Ask the optimizer to adjust the parameters based on the gradients\n",
        "        \n",
        "        # Record the correct predictions for training data \n",
        "        _, predicted = torch.max(outputs.data, 1)\n",
        "        correct += (predicted == classes.data).sum()\n",
        "        iterations += 1\n",
        "    \n",
        "    # Record the training loss\n",
        "    train_loss.append(iter_loss/iterations)\n",
        "    # Record the training accuracy\n",
        "    train_accuracy.append((100 * correct / len(mnist_train_loader.dataset)))\n",
        "   \n",
        "\n",
        "    ############################\n",
        "    # Validate - How did we do on the unseen dataset?\n",
        "    ############################\n",
        "    \n",
        "    loss = 0.0\n",
        "    correct = 0\n",
        "    iterations = 0\n",
        "\n",
        "    net.eval()                    # Put the network into evaluate mode\n",
        "    \n",
        "    for i, (items, classes) in enumerate(mnist_valid_loader):\n",
        "        \n",
        "        # Convert torch tensor to Variable\n",
        "        items = Variable(items)\n",
        "        classes = Variable(classes)\n",
        "        \n",
        "        # If we have GPU, shift the data to GPU\n",
        "        if cuda.is_available():\n",
        "            items = items.cuda()\n",
        "            classes = classes.cuda()\n",
        "        \n",
        "        outputs = net(items)      # Do the forward pass\n",
        "        loss += criterion(outputs, classes).data[0] # Calculate the loss\n",
        "        \n",
        "        # Record the correct predictions for training data\n",
        "        _, predicted = torch.max(outputs.data, 1)\n",
        "        correct += (predicted == classes.data).sum()\n",
        "        \n",
        "        iterations += 1\n",
        "\n",
        "    # Record the validation loss\n",
        "    valid_loss.append(loss/iterations)\n",
        "    # Record the validation accuracy\n",
        "    valid_accuracy.append(correct / len(mnist_valid_loader.dataset) * 100.0)\n",
        "\n",
        "    \n",
        "    print ('Epoch %d/%d, Tr Loss: %.4f, Tr Acc: %.4f, Val Loss: %.4f, Val Acc: %.4f'\n",
        "           %(epoch+1, num_epochs, train_loss[-1], train_accuracy[-1], \n",
        "             valid_loss[-1], valid_accuracy[-1]))"
      ],
      "outputs": [
        {
          "output_type": "stream",
          "name": "stdout",
          "text": [
            "Epoch 1/100, Tr Loss: 1.0912, Tr Acc: 64.8150, Val Loss: 0.3349, Val Acc: 90.3600\n",
            "Epoch 2/100, Tr Loss: 0.3399, Tr Acc: 89.9783, Val Loss: 0.2105, Val Acc: 93.6800\n",
            "Epoch 3/100, Tr Loss: 0.2483, Tr Acc: 92.6450, Val Loss: 0.1625, Val Acc: 94.9800\n",
            "Epoch 4/100, Tr Loss: 0.2048, Tr Acc: 93.8767, Val Loss: 0.1343, Val Acc: 95.9100\n",
            "Epoch 5/100, Tr Loss: 0.1717, Tr Acc: 94.8750, Val Loss: 0.1185, Val Acc: 96.4300\n",
            "Epoch 6/100, Tr Loss: 0.1549, Tr Acc: 95.4083, Val Loss: 0.1045, Val Acc: 96.8500\n",
            "Epoch 7/100, Tr Loss: 0.1366, Tr Acc: 95.8583, Val Loss: 0.0953, Val Acc: 97.0400\n",
            "Epoch 8/100, Tr Loss: 0.1248, Tr Acc: 96.2850, Val Loss: 0.0874, Val Acc: 97.1500\n",
            "Epoch 9/100, Tr Loss: 0.1158, Tr Acc: 96.4650, Val Loss: 0.0808, Val Acc: 97.5200\n",
            "Epoch 10/100, Tr Loss: 0.1077, Tr Acc: 96.7767, Val Loss: 0.0803, Val Acc: 97.5400\n",
            "Epoch 11/100, Tr Loss: 0.0994, Tr Acc: 96.9867, Val Loss: 0.0744, Val Acc: 97.7100\n",
            "Epoch 12/100, Tr Loss: 0.0952, Tr Acc: 97.2017, Val Loss: 0.0670, Val Acc: 97.8600\n",
            "Epoch 13/100, Tr Loss: 0.0894, Tr Acc: 97.2550, Val Loss: 0.0640, Val Acc: 97.9800\n",
            "Epoch 14/100, Tr Loss: 0.0858, Tr Acc: 97.4483, Val Loss: 0.0609, Val Acc: 98.2300\n",
            "Epoch 15/100, Tr Loss: 0.0816, Tr Acc: 97.5500, Val Loss: 0.0541, Val Acc: 98.3000\n",
            "Epoch 16/100, Tr Loss: 0.0766, Tr Acc: 97.7083, Val Loss: 0.0565, Val Acc: 98.2500\n",
            "Epoch 17/100, Tr Loss: 0.0724, Tr Acc: 97.7867, Val Loss: 0.0551, Val Acc: 98.2300\n",
            "Epoch 18/100, Tr Loss: 0.0704, Tr Acc: 97.8333, Val Loss: 0.0512, Val Acc: 98.3800\n",
            "Epoch 19/100, Tr Loss: 0.0666, Tr Acc: 98.0083, Val Loss: 0.0502, Val Acc: 98.4000\n",
            "Epoch 20/100, Tr Loss: 0.0660, Tr Acc: 98.0417, Val Loss: 0.0482, Val Acc: 98.4600\n",
            "Epoch 21/100, Tr Loss: 0.0635, Tr Acc: 98.0433, Val Loss: 0.0483, Val Acc: 98.4900\n",
            "Epoch 22/100, Tr Loss: 0.0597, Tr Acc: 98.2233, Val Loss: 0.0452, Val Acc: 98.5700\n",
            "Epoch 23/100, Tr Loss: 0.0586, Tr Acc: 98.1617, Val Loss: 0.0457, Val Acc: 98.5800\n",
            "Epoch 24/100, Tr Loss: 0.0561, Tr Acc: 98.2650, Val Loss: 0.0457, Val Acc: 98.5400\n",
            "Epoch 25/100, Tr Loss: 0.0532, Tr Acc: 98.3517, Val Loss: 0.0440, Val Acc: 98.4900\n",
            "Epoch 26/100, Tr Loss: 0.0543, Tr Acc: 98.2567, Val Loss: 0.0444, Val Acc: 98.5700\n",
            "Epoch 27/100, Tr Loss: 0.0519, Tr Acc: 98.3300, Val Loss: 0.0424, Val Acc: 98.5900\n",
            "Epoch 28/100, Tr Loss: 0.0512, Tr Acc: 98.4550, Val Loss: 0.0439, Val Acc: 98.6600\n",
            "Epoch 29/100, Tr Loss: 0.0478, Tr Acc: 98.5017, Val Loss: 0.0441, Val Acc: 98.7100\n",
            "Epoch 30/100, Tr Loss: 0.0472, Tr Acc: 98.5350, Val Loss: 0.0422, Val Acc: 98.6100\n",
            "Epoch 31/100, Tr Loss: 0.0464, Tr Acc: 98.5483, Val Loss: 0.0368, Val Acc: 98.8600\n",
            "Epoch 32/100, Tr Loss: 0.0452, Tr Acc: 98.5800, Val Loss: 0.0392, Val Acc: 98.7600\n",
            "Epoch 33/100, Tr Loss: 0.0460, Tr Acc: 98.5433, Val Loss: 0.0392, Val Acc: 98.6500\n",
            "Epoch 34/100, Tr Loss: 0.0431, Tr Acc: 98.6583, Val Loss: 0.0371, Val Acc: 98.9200\n",
            "Epoch 35/100, Tr Loss: 0.0439, Tr Acc: 98.6683, Val Loss: 0.0389, Val Acc: 98.7200\n",
            "Epoch 36/100, Tr Loss: 0.0412, Tr Acc: 98.6800, Val Loss: 0.0380, Val Acc: 98.7800\n",
            "Epoch 37/100, Tr Loss: 0.0414, Tr Acc: 98.7167, Val Loss: 0.0393, Val Acc: 98.8300\n",
            "Epoch 38/100, Tr Loss: 0.0404, Tr Acc: 98.7700, Val Loss: 0.0363, Val Acc: 98.8600\n",
            "Epoch 39/100, Tr Loss: 0.0398, Tr Acc: 98.7483, Val Loss: 0.0392, Val Acc: 98.7900\n",
            "Epoch 40/100, Tr Loss: 0.0390, Tr Acc: 98.8000, Val Loss: 0.0354, Val Acc: 98.8900\n",
            "Epoch 41/100, Tr Loss: 0.0388, Tr Acc: 98.8317, Val Loss: 0.0375, Val Acc: 98.8400\n",
            "Epoch 42/100, Tr Loss: 0.0366, Tr Acc: 98.8350, Val Loss: 0.0380, Val Acc: 98.7000\n",
            "Epoch 43/100, Tr Loss: 0.0363, Tr Acc: 98.8833, Val Loss: 0.0353, Val Acc: 98.8900\n",
            "Epoch 44/100, Tr Loss: 0.0345, Tr Acc: 98.9133, Val Loss: 0.0339, Val Acc: 98.8600\n",
            "Epoch 45/100, Tr Loss: 0.0335, Tr Acc: 98.9600, Val Loss: 0.0348, Val Acc: 98.8100\n",
            "Epoch 46/100, Tr Loss: 0.0340, Tr Acc: 98.9183, Val Loss: 0.0359, Val Acc: 98.8700\n",
            "Epoch 47/100, Tr Loss: 0.0335, Tr Acc: 98.9200, Val Loss: 0.0366, Val Acc: 98.8800\n",
            "Epoch 48/100, Tr Loss: 0.0318, Tr Acc: 98.9667, Val Loss: 0.0326, Val Acc: 98.9200\n",
            "Epoch 49/100, Tr Loss: 0.0325, Tr Acc: 98.9350, Val Loss: 0.0361, Val Acc: 98.8300\n",
            "Epoch 50/100, Tr Loss: 0.0323, Tr Acc: 98.9850, Val Loss: 0.0319, Val Acc: 99.0200\n",
            "Epoch 51/100, Tr Loss: 0.0318, Tr Acc: 98.9583, Val Loss: 0.0331, Val Acc: 98.9700\n",
            "Epoch 52/100, Tr Loss: 0.0301, Tr Acc: 99.0167, Val Loss: 0.0369, Val Acc: 98.8400\n",
            "Epoch 53/100, Tr Loss: 0.0303, Tr Acc: 99.0383, Val Loss: 0.0352, Val Acc: 98.8700\n",
            "Epoch 54/100, Tr Loss: 0.0303, Tr Acc: 99.0817, Val Loss: 0.0326, Val Acc: 99.0100\n",
            "Epoch 55/100, Tr Loss: 0.0284, Tr Acc: 99.1350, Val Loss: 0.0341, Val Acc: 98.9100\n",
            "Epoch 56/100, Tr Loss: 0.0280, Tr Acc: 99.1300, Val Loss: 0.0350, Val Acc: 98.8700\n",
            "Epoch 57/100, Tr Loss: 0.0273, Tr Acc: 99.1067, Val Loss: 0.0306, Val Acc: 99.0000\n",
            "Epoch 58/100, Tr Loss: 0.0278, Tr Acc: 99.1117, Val Loss: 0.0313, Val Acc: 99.0600\n",
            "Epoch 59/100, Tr Loss: 0.0264, Tr Acc: 99.1767, Val Loss: 0.0334, Val Acc: 99.0700\n",
            "Epoch 60/100, Tr Loss: 0.0260, Tr Acc: 99.1783, Val Loss: 0.0319, Val Acc: 98.9400\n",
            "Epoch 61/100, Tr Loss: 0.0255, Tr Acc: 99.1950, Val Loss: 0.0342, Val Acc: 98.9100\n",
            "Epoch 62/100, Tr Loss: 0.0266, Tr Acc: 99.1283, Val Loss: 0.0325, Val Acc: 98.9800\n",
            "Epoch 63/100, Tr Loss: 0.0257, Tr Acc: 99.1783, Val Loss: 0.0349, Val Acc: 98.9600\n",
            "Epoch 64/100, Tr Loss: 0.0244, Tr Acc: 99.2367, Val Loss: 0.0359, Val Acc: 98.9100\n",
            "Epoch 65/100, Tr Loss: 0.0254, Tr Acc: 99.1667, Val Loss: 0.0311, Val Acc: 99.0100\n",
            "Epoch 66/100, Tr Loss: 0.0241, Tr Acc: 99.2000, Val Loss: 0.0316, Val Acc: 98.9400\n",
            "Epoch 67/100, Tr Loss: 0.0246, Tr Acc: 99.2583, Val Loss: 0.0304, Val Acc: 98.9700\n",
            "Epoch 68/100, Tr Loss: 0.0245, Tr Acc: 99.1767, Val Loss: 0.0298, Val Acc: 99.0600\n",
            "Epoch 69/100, Tr Loss: 0.0234, Tr Acc: 99.2400, Val Loss: 0.0318, Val Acc: 99.0600\n",
            "Epoch 70/100, Tr Loss: 0.0228, Tr Acc: 99.2683, Val Loss: 0.0271, Val Acc: 99.1100\n",
            "Epoch 71/100, Tr Loss: 0.0236, Tr Acc: 99.2183, Val Loss: 0.0308, Val Acc: 99.1000\n",
            "Epoch 72/100, Tr Loss: 0.0232, Tr Acc: 99.2250, Val Loss: 0.0298, Val Acc: 99.1400\n",
            "Epoch 73/100, Tr Loss: 0.0229, Tr Acc: 99.2733, Val Loss: 0.0335, Val Acc: 99.0100\n",
            "Epoch 74/100, Tr Loss: 0.0219, Tr Acc: 99.2967, Val Loss: 0.0282, Val Acc: 99.1300\n",
            "Epoch 75/100, Tr Loss: 0.0215, Tr Acc: 99.3367, Val Loss: 0.0338, Val Acc: 98.9300\n",
            "Epoch 76/100, Tr Loss: 0.0205, Tr Acc: 99.3050, Val Loss: 0.0296, Val Acc: 99.0000\n",
            "Epoch 77/100, Tr Loss: 0.0208, Tr Acc: 99.3167, Val Loss: 0.0317, Val Acc: 99.0800\n",
            "Epoch 78/100, Tr Loss: 0.0199, Tr Acc: 99.3217, Val Loss: 0.0326, Val Acc: 99.0700\n",
            "Epoch 79/100, Tr Loss: 0.0210, Tr Acc: 99.3200, Val Loss: 0.0330, Val Acc: 99.0400\n",
            "Epoch 80/100, Tr Loss: 0.0206, Tr Acc: 99.3483, Val Loss: 0.0334, Val Acc: 99.0600\n",
            "Epoch 81/100, Tr Loss: 0.0194, Tr Acc: 99.3583, Val Loss: 0.0313, Val Acc: 98.9800\n",
            "Epoch 82/100, Tr Loss: 0.0192, Tr Acc: 99.3517, Val Loss: 0.0308, Val Acc: 98.9800\n",
            "Epoch 83/100, Tr Loss: 0.0188, Tr Acc: 99.3450, Val Loss: 0.0276, Val Acc: 99.2400\n",
            "Epoch 84/100, Tr Loss: 0.0201, Tr Acc: 99.3417, Val Loss: 0.0279, Val Acc: 99.1900\n",
            "Epoch 85/100, Tr Loss: 0.0183, Tr Acc: 99.3883, Val Loss: 0.0302, Val Acc: 99.1000\n",
            "Epoch 86/100, Tr Loss: 0.0195, Tr Acc: 99.3617, Val Loss: 0.0299, Val Acc: 99.0600\n",
            "Epoch 87/100, Tr Loss: 0.0184, Tr Acc: 99.3800, Val Loss: 0.0298, Val Acc: 99.0900\n",
            "Epoch 88/100, Tr Loss: 0.0198, Tr Acc: 99.3900, Val Loss: 0.0312, Val Acc: 99.0300\n",
            "Epoch 89/100, Tr Loss: 0.0190, Tr Acc: 99.3950, Val Loss: 0.0316, Val Acc: 99.1200\n",
            "Epoch 90/100, Tr Loss: 0.0183, Tr Acc: 99.4200, Val Loss: 0.0306, Val Acc: 99.1000\n",
            "Epoch 91/100, Tr Loss: 0.0175, Tr Acc: 99.4133, Val Loss: 0.0324, Val Acc: 99.0600\n",
            "Epoch 92/100, Tr Loss: 0.0180, Tr Acc: 99.4317, Val Loss: 0.0276, Val Acc: 99.1900\n",
            "Epoch 93/100, Tr Loss: 0.0177, Tr Acc: 99.3983, Val Loss: 0.0322, Val Acc: 98.9700\n",
            "Epoch 94/100, Tr Loss: 0.0178, Tr Acc: 99.4150, Val Loss: 0.0319, Val Acc: 99.0700\n",
            "Epoch 95/100, Tr Loss: 0.0164, Tr Acc: 99.4300, Val Loss: 0.0345, Val Acc: 99.1000\n",
            "Epoch 96/100, Tr Loss: 0.0165, Tr Acc: 99.4283, Val Loss: 0.0340, Val Acc: 98.9800\n",
            "Epoch 97/100, Tr Loss: 0.0168, Tr Acc: 99.4350, Val Loss: 0.0275, Val Acc: 99.1100\n",
            "Epoch 98/100, Tr Loss: 0.0161, Tr Acc: 99.4767, Val Loss: 0.0282, Val Acc: 99.1600\n",
            "Epoch 99/100, Tr Loss: 0.0168, Tr Acc: 99.4833, Val Loss: 0.0318, Val Acc: 99.0600\n"
          ]
        },
        {
          "output_type": "stream",
          "name": "stdout",
          "text": [
            "Epoch 100/100, Tr Loss: 0.0165, Tr Acc: 99.4183, Val Loss: 0.0291, Val Acc: 99.0400\n"
          ]
        }
      ],
      "execution_count": 10,
      "metadata": {}
    },
    {
      "cell_type": "code",
      "source": [
        "torch.save(net.state_dict(), \"./3.model.pth\")"
      ],
      "outputs": [],
      "execution_count": 11,
      "metadata": {}
    },
    {
      "cell_type": "markdown",
      "source": [
        "**Visialize the loss and accuracy**"
      ],
      "metadata": {}
    },
    {
      "cell_type": "code",
      "source": [
        "# Loss\n",
        "\n",
        "f = plt.figure(figsize=(10, 8))\n",
        "plt.plot(train_loss, label='training loss')\n",
        "plt.plot(valid_loss, label='validation loss')\n",
        "plt.legend()\n",
        "plt.show()"
      ],
      "outputs": [
        {
          "output_type": "display_data",
          "data": {
            "image/png": "[encoded data removed]",
            "text/plain": [
              "<matplotlib.figure.Figure at 0x7fea0c198e48>"
            ]
          },
          "metadata": {}
        }
      ],
      "execution_count": 12,
      "metadata": {}
    },
    {
      "cell_type": "code",
      "source": [
        "# Accuracy\n",
        "\n",
        "f = plt.figure(figsize=(10, 8))\n",
        "plt.plot(train_accuracy, label='training accuracy')\n",
        "plt.plot(valid_accuracy, label='validation accuracy')\n",
        "plt.legend()\n",
        "plt.show()"
      ],
      "outputs": [
        {
          "output_type": "display_data",
          "data": {
            "image/png": "[encoded data removed]",
            "text/plain": [
              "<matplotlib.figure.Figure at 0x7fea0c178128>"
            ]
          },
          "metadata": {}
        }
      ],
      "execution_count": 13,
      "metadata": {}
    },
    {
      "cell_type": "markdown",
      "source": [
        "**Standalone inference**"
      ],
      "metadata": {}
    },
    {
      "cell_type": "code",
      "source": [
        "image_index = 23\n",
        "img = mnist_valid[image_index][0].resize_((1, 1, 28, 28))\n",
        "img = Variable(img)\n",
        "label = mnist_valid[image_index][1]\n",
        "\n",
        "net.eval()\n",
        "\n",
        "if cuda.is_available():\n",
        "    net = net.cuda()\n",
        "    img = img.cuda()\n",
        "else:\n",
        "    net = net.cpu()\n",
        "    img = img.cpu()\n",
        "    \n",
        "output = net(img)"
      ],
      "outputs": [],
      "execution_count": 14,
      "metadata": {}
    },
    {
      "cell_type": "code",
      "source": [
        "output.data"
      ],
      "outputs": [
        {
          "output_type": "execute_result",
          "execution_count": 15,
          "data": {
            "text/plain": [
              "\n\n",
              "Columns 0 to 7 \n",
              "-11.0635  -8.2341  -8.3585  14.9212  -6.3458  31.9319   1.8713 -12.6704\n",
              "\n",
              "Columns 8 to 9 \n",
              " -2.6972  12.8850\n",
              "[torch.cuda.FloatTensor of size 1x10 (GPU 0)]"
            ]
          },
          "metadata": {}
        }
      ],
      "execution_count": 15,
      "metadata": {}
    },
    {
      "cell_type": "code",
      "source": [
        "_, predicted = torch.max(output.data, 1)\n",
        "print(\"Prediction is: \", predicted)"
      ],
      "outputs": [
        {
          "output_type": "stream",
          "name": "stdout",
          "text": [
            "Prediction is:  \n",
            " 5\n",
            "[torch.cuda.LongTensor of size 1 (GPU 0)]\n",
            "\n"
          ]
        }
      ],
      "execution_count": 16,
      "metadata": {}
    },
    {
      "cell_type": "code",
      "source": [
        "print(\"Actual is is: \", label)"
      ],
      "outputs": [
        {
          "output_type": "stream",
          "name": "stdout",
          "text": [
            "Actual is is:  5\n"
          ]
        }
      ],
      "execution_count": 17,
      "metadata": {}
    },
    {
      "cell_type": "markdown",
      "source": [
        "## things to explore\n",
        "\n",
        "* Play with the various moving parts in this notebook and try to increase the accuracy\n",
        "* Try a different dataset (http://pytorch.org/docs/master/torchvision/datasets.html)\n",
        "* Try data augmentation (http://pytorch.org/docs/master/torchvision/transforms.html)"
      ],
      "metadata": {}
    }
  ],
  "metadata": {
    "kernelspec": {
      "name": "python3",
      "language": "python",
      "display_name": "Python 3"
    },
    "language_info": {
      "name": "python",
      "version": "3.6.1",
      "mimetype": "text/x-python",
      "codemirror_mode": {
        "name": "ipython",
        "version": 3
      },
      "pygments_lexer": "ipython3",
      "nbconvert_exporter": "python",
      "file_extension": ".py"
    },
    "kernel_info": {
      "name": "python3"
    },
    "nteract": {
      "version": "0.12.3"
    }
  },
  "nbformat": 4,
  "nbformat_minor": 2
}