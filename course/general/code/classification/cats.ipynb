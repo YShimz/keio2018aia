{
 "cells": [
  {
   "cell_type": "code",
   "execution_count": 12,
   "metadata": {},
   "outputs": [],
   "source": [
    "import numpy as np\n",
    "import random\n",
    "\n",
    "class Neuron:\n",
    "\n",
    "    def __init__(self, dimension=1, weights=None, bias=None, activation=(lambda x: x), predict=(lambda x: x)):\n",
    "\n",
    "        self._dim = dimension\n",
    "        self.w = weights or np.array([random.random()*(-1)**random.randint(0, 1) for _ in range(self._dim)])\n",
    "        self.w = np.array([float(w) for w in self.w])\n",
    "        self.b = bias if bias is not None else random.random()*(-1)**random.randint(0, 1)\n",
    "        self.b = float(self.b)\n",
    "        self._a = activation\n",
    "        self.predict = predict.__get__(self)\n",
    "\n",
    "    def __str__(self):\n",
    "\n",
    "        return \"Simple cell neuron\\n\\\n",
    "        \\tInput dimension: %d\\n\\\n",
    "        \\tBias: %f\\n\\\n",
    "        \\tWeights: %s\\n\\\n",
    "        \\tActivation: %s\" % (self._dim, self.b, self.w, self._a.__name__)\n",
    "\n",
    "    def __call__(self, x):\n",
    "\n",
    "        yhat = self._a(np.dot(self.w, np.array(x)) + self.b)\n",
    "        return yhat\n",
    "\n",
    "class Trainer:\n",
    "    \n",
    "    def __init__(self, dataset, model, loss):\n",
    "        self.dataset = dataset\n",
    "        self.model = model\n",
    "        self.loss = loss\n",
    "        \n",
    "    def cost(self, data):\n",
    "        \n",
    "        results = [self.loss(self.model.predict(x), y) for x, y in data]\n",
    "        return float(sum(result for result in results))/float(len(results))\n",
    "    \n",
    "    def accuracy(self, data):\n",
    "        return 100*float(sum([1 for x, y in data if self.model.predict(x) == y]))/float(len(data))\n",
    "    \n",
    "    def train(self, lr, ne):\n",
    "        print(\"training model on data...\")\n",
    "        accuracy = self.accuracy(self.dataset)\n",
    "        print(\"initial accuracy: %.3f\" % (accuracy))\n",
    "        for epoch in range(ne):\n",
    "            for d in self.dataset:\n",
    "                x, y = d\n",
    "                x = np.array(x)\n",
    "                yhat = self.model(x)\n",
    "                error = y - yhat\n",
    "                self.model.w += lr*(y-yhat)*x\n",
    "                self.model.b += lr*(y-yhat)\n",
    "            accuracy = self.accuracy(self.dataset)\n",
    "            print('>epoch=%d, learning_rate=%.3f, accuracy=%.3f' % (epoch+1, lr, accuracy))\n",
    "        print(\"training complete\")\n",
    "        print(\"final accuracy: %.3f\" % (self.accuracy(self.dataset)))"
   ]
  },
  {
   "cell_type": "code",
   "execution_count": 13,
   "metadata": {},
   "outputs": [],
   "source": [
    "# activation functions\n",
    "\n",
    "def sigmoid(z):\n",
    "    return 1.0 / (1.0 + np.exp(-z))\n",
    "\n",
    "def sigmoid(x):\n",
    "    \"Numerically stable sigmoid function.\"\n",
    "    if x >= 0:\n",
    "        z = np.exp(-x)\n",
    "        return 1 / (1 + z)\n",
    "    else:\n",
    "        z = np.exp(x)\n",
    "        return z / (1 + z)\n",
    "\n",
    "def softmax(z):\n",
    "    return np.exp(z) / np.sum(np.exp(z))\n",
    "\n",
    "def tanh(z):\n",
    "    return np.tanh(z)\n",
    "\n",
    "def relu(z):\n",
    "    return np.maximum(z, 0)\n",
    "\n",
    "def perceptron(z):\n",
    "    return -1 if z<=0 else 1\n",
    "\n",
    "# loss functions\n",
    "\n",
    "def qloss(yhat, y):\n",
    "    return (yhat-y)**2/2\n",
    "\n",
    "def ploss(yhat, y):\n",
    "    return max(0, -yhat*y)\n",
    "\n",
    "def lrloss(yhat, y):\n",
    "    return 0.0 if yhat==y else -1.0*(y*np.log(yhat)+(1-y)*np.log(1-yhat))\n",
    "\n",
    "# prediction functions\n",
    "\n",
    "def ppredict(self, x):\n",
    "    return self(x)\n",
    "\n",
    "def lrpredict(self, x):\n",
    "    return 1 if self(x)>0.5 else 0"
   ]
  },
  {
   "cell_type": "code",
   "execution_count": 14,
   "metadata": {},
   "outputs": [],
   "source": [
    "cat_data = dict()\n",
    "with open('data/cat_data.pkl', 'rb') as f:\n",
    "    cat_data = pkl.load(f)"
   ]
  },
  {
   "cell_type": "code",
   "execution_count": 15,
   "metadata": {},
   "outputs": [],
   "source": [
    "def isCat(picture):\n",
    "    if trainer.model.predict(list(picture.flatten()/255)) == 0:\n",
    "        return(\"This is a cat!\")\n",
    "    else:\n",
    "        return(\"There is no cat!\")"
   ]
  },
  {
   "cell_type": "code",
   "execution_count": 16,
   "metadata": {},
   "outputs": [],
   "source": [
    "import pickle as pkl\n",
    "import matplotlib.pyplot as plt\n",
    "%matplotlib inline\n",
    "\n",
    "def show_image(d):\n",
    "    plt.imshow(d)\n",
    "    plt.show()"
   ]
  },
  {
   "cell_type": "code",
   "execution_count": 24,
   "metadata": {},
   "outputs": [
    {
     "data": {
      "image/png": "[encoded data removed]",
      "text/plain": [
       "<matplotlib.figure.Figure at 0x10b8e7ac8>"
      ]
     },
     "metadata": {},
     "output_type": "display_data"
    }
   ],
   "source": [
    "index = 2\n",
    "picture = cat_data['test']['cat'][index]\n",
    "show_image(picture)"
   ]
  },
  {
   "cell_type": "code",
   "execution_count": 25,
   "metadata": {},
   "outputs": [
    {
     "data": {
      "image/png": "[encoded data removed]",
      "text/plain": [
       "<matplotlib.figure.Figure at 0x10b73b828>"
      ]
     },
     "metadata": {},
     "output_type": "display_data"
    }
   ],
   "source": [
    "index = 9\n",
    "picture = cat_data['test']['no_cat'][index]\n",
    "show_image(picture)"
   ]
  },
  {
   "cell_type": "code",
   "execution_count": 32,
   "metadata": {},
   "outputs": [
    {
     "data": {
      "text/plain": [
       "(64, 64, 3)"
      ]
     },
     "execution_count": 32,
     "metadata": {},
     "output_type": "execute_result"
    }
   ],
   "source": [
    "picture.shape"
   ]
  },
  {
   "cell_type": "code",
   "execution_count": 33,
   "metadata": {},
   "outputs": [
    {
     "data": {
      "text/plain": [
       "array([[[254, 254, 243],\n",
       "        [255, 255, 246],\n",
       "        [255, 255, 253],\n",
       "        ...,\n",
       "        [189, 119,  40],\n",
       "        [207, 131,  41],\n",
       "        [210, 135,  47]],\n",
       "\n",
       "       [[254, 244, 189],\n",
       "        [254, 246, 201],\n",
       "        [254, 250, 222],\n",
       "        ...,\n",
       "        [198, 125,  43],\n",
       "        [214, 136,  43],\n",
       "        [213, 138,  48]],\n",
       "\n",
       "       [[238, 207, 133],\n",
       "        [239, 207, 137],\n",
       "        [246, 218, 148],\n",
       "        ...,\n",
       "        [203, 127,  40],\n",
       "        [221, 138,  42],\n",
       "        [217, 138,  46]],\n",
       "\n",
       "       ...,\n",
       "\n",
       "       [[104,  56,  21],\n",
       "        [ 89,  42,  13],\n",
       "        [100,  49,  16],\n",
       "        ...,\n",
       "        [ 86,  52,  23],\n",
       "        [ 88,  54,  24],\n",
       "        [ 92,  57,  26]],\n",
       "\n",
       "       [[108,  55,  18],\n",
       "        [110,  57,  19],\n",
       "        [127,  70,  27],\n",
       "        ...,\n",
       "        [110,  69,  33],\n",
       "        [111,  71,  34],\n",
       "        [108,  68,  32]],\n",
       "\n",
       "       [[135,  76,  31],\n",
       "        [141,  82,  35],\n",
       "        [156,  96,  45],\n",
       "        ...,\n",
       "        [127,  81,  40],\n",
       "        [120,  77,  38],\n",
       "        [129,  84,  43]]], dtype=uint8)"
      ]
     },
     "execution_count": 33,
     "metadata": {},
     "output_type": "execute_result"
    }
   ],
   "source": [
    "picture"
   ]
  },
  {
   "cell_type": "code",
   "execution_count": 26,
   "metadata": {},
   "outputs": [
    {
     "name": "stdout",
     "output_type": "stream",
     "text": [
      "209\n",
      "50\n"
     ]
    }
   ],
   "source": [
    "train_data = []\n",
    "for x in cat_data['train']['cat']:\n",
    "    train_data.append((list(x.flatten()/255), 0))\n",
    "for x in cat_data['train']['no_cat']:\n",
    "    train_data.append((list(x.flatten()/255), 1))\n",
    "random.shuffle(train_data)\n",
    "print(len(train_data))\n",
    "\n",
    "test_data = []\n",
    "for x in cat_data['test']['cat']:\n",
    "    test_data.append((list(x.flatten()/255), 0))\n",
    "for x in cat_data['test']['no_cat']:\n",
    "    test_data.append((list(x.flatten()/255), 1))\n",
    "random.shuffle(test_data)\n",
    "print(len(test_data))"
   ]
  },
  {
   "cell_type": "code",
   "execution_count": 27,
   "metadata": {},
   "outputs": [],
   "source": [
    "dim = len(train_data[0][0])\n",
    "model = Neuron(dimension=dim, activation=sigmoid, predict=(lambda self, x: 1 if self(x)>0.5 else 0))\n",
    "trainer = Trainer(train_data, model, lrloss)"
   ]
  },
  {
   "cell_type": "code",
   "execution_count": 28,
   "metadata": {},
   "outputs": [
    {
     "name": "stdout",
     "output_type": "stream",
     "text": [
      "training model on data...\n",
      "initial accuracy: 35.885\n",
      ">epoch=1, learning_rate=0.100, accuracy=65.550\n",
      ">epoch=2, learning_rate=0.100, accuracy=66.507\n",
      ">epoch=3, learning_rate=0.100, accuracy=66.029\n",
      ">epoch=4, learning_rate=0.100, accuracy=66.986\n",
      ">epoch=5, learning_rate=0.100, accuracy=70.335\n",
      ">epoch=6, learning_rate=0.100, accuracy=67.943\n",
      ">epoch=7, learning_rate=0.100, accuracy=67.943\n",
      ">epoch=8, learning_rate=0.100, accuracy=66.029\n",
      ">epoch=9, learning_rate=0.100, accuracy=71.292\n",
      ">epoch=10, learning_rate=0.100, accuracy=67.464\n",
      ">epoch=11, learning_rate=0.100, accuracy=68.900\n",
      ">epoch=12, learning_rate=0.100, accuracy=66.029\n",
      ">epoch=13, learning_rate=0.100, accuracy=80.383\n",
      ">epoch=14, learning_rate=0.100, accuracy=71.292\n",
      ">epoch=15, learning_rate=0.100, accuracy=68.421\n",
      ">epoch=16, learning_rate=0.100, accuracy=67.464\n",
      ">epoch=17, learning_rate=0.100, accuracy=73.206\n",
      ">epoch=18, learning_rate=0.100, accuracy=75.120\n",
      ">epoch=19, learning_rate=0.100, accuracy=69.378\n",
      ">epoch=20, learning_rate=0.100, accuracy=71.770\n",
      ">epoch=21, learning_rate=0.100, accuracy=76.077\n",
      ">epoch=22, learning_rate=0.100, accuracy=66.507\n",
      ">epoch=23, learning_rate=0.100, accuracy=67.464\n",
      ">epoch=24, learning_rate=0.100, accuracy=67.464\n",
      ">epoch=25, learning_rate=0.100, accuracy=74.641\n",
      ">epoch=26, learning_rate=0.100, accuracy=66.507\n",
      ">epoch=27, learning_rate=0.100, accuracy=70.335\n",
      ">epoch=28, learning_rate=0.100, accuracy=69.378\n",
      ">epoch=29, learning_rate=0.100, accuracy=79.426\n",
      ">epoch=30, learning_rate=0.100, accuracy=83.254\n",
      ">epoch=31, learning_rate=0.100, accuracy=67.943\n",
      ">epoch=32, learning_rate=0.100, accuracy=70.335\n",
      ">epoch=33, learning_rate=0.100, accuracy=88.517\n",
      ">epoch=34, learning_rate=0.100, accuracy=75.120\n",
      ">epoch=35, learning_rate=0.100, accuracy=68.900\n",
      ">epoch=36, learning_rate=0.100, accuracy=73.206\n",
      ">epoch=37, learning_rate=0.100, accuracy=74.641\n",
      ">epoch=38, learning_rate=0.100, accuracy=70.813\n",
      ">epoch=39, learning_rate=0.100, accuracy=80.861\n",
      ">epoch=40, learning_rate=0.100, accuracy=67.464\n",
      ">epoch=41, learning_rate=0.100, accuracy=69.378\n",
      ">epoch=42, learning_rate=0.100, accuracy=68.900\n",
      ">epoch=43, learning_rate=0.100, accuracy=82.775\n",
      ">epoch=44, learning_rate=0.100, accuracy=69.378\n",
      ">epoch=45, learning_rate=0.100, accuracy=73.206\n",
      ">epoch=46, learning_rate=0.100, accuracy=69.856\n",
      ">epoch=47, learning_rate=0.100, accuracy=86.603\n",
      ">epoch=48, learning_rate=0.100, accuracy=69.856\n",
      ">epoch=49, learning_rate=0.100, accuracy=80.861\n",
      ">epoch=50, learning_rate=0.100, accuracy=81.818\n",
      ">epoch=51, learning_rate=0.100, accuracy=69.378\n",
      ">epoch=52, learning_rate=0.100, accuracy=70.813\n",
      ">epoch=53, learning_rate=0.100, accuracy=70.335\n",
      ">epoch=54, learning_rate=0.100, accuracy=69.378\n",
      ">epoch=55, learning_rate=0.100, accuracy=93.301\n",
      ">epoch=56, learning_rate=0.100, accuracy=73.684\n",
      ">epoch=57, learning_rate=0.100, accuracy=67.943\n",
      ">epoch=58, learning_rate=0.100, accuracy=75.120\n",
      ">epoch=59, learning_rate=0.100, accuracy=72.249\n",
      ">epoch=60, learning_rate=0.100, accuracy=94.737\n",
      ">epoch=61, learning_rate=0.100, accuracy=71.292\n",
      ">epoch=62, learning_rate=0.100, accuracy=77.990\n",
      ">epoch=63, learning_rate=0.100, accuracy=67.464\n",
      ">epoch=64, learning_rate=0.100, accuracy=69.378\n",
      ">epoch=65, learning_rate=0.100, accuracy=88.995\n",
      ">epoch=66, learning_rate=0.100, accuracy=99.043\n",
      ">epoch=67, learning_rate=0.100, accuracy=72.727\n",
      ">epoch=68, learning_rate=0.100, accuracy=73.206\n",
      ">epoch=69, learning_rate=0.100, accuracy=71.770\n",
      ">epoch=70, learning_rate=0.100, accuracy=74.641\n",
      ">epoch=71, learning_rate=0.100, accuracy=73.206\n",
      ">epoch=72, learning_rate=0.100, accuracy=68.900\n",
      ">epoch=73, learning_rate=0.100, accuracy=69.856\n",
      ">epoch=74, learning_rate=0.100, accuracy=99.043\n",
      ">epoch=75, learning_rate=0.100, accuracy=72.727\n",
      ">epoch=76, learning_rate=0.100, accuracy=69.856\n",
      ">epoch=77, learning_rate=0.100, accuracy=70.335\n",
      ">epoch=78, learning_rate=0.100, accuracy=70.335\n",
      ">epoch=79, learning_rate=0.100, accuracy=99.522\n",
      ">epoch=80, learning_rate=0.100, accuracy=100.000\n",
      ">epoch=81, learning_rate=0.100, accuracy=100.000\n",
      ">epoch=82, learning_rate=0.100, accuracy=100.000\n",
      ">epoch=83, learning_rate=0.100, accuracy=100.000\n",
      ">epoch=84, learning_rate=0.100, accuracy=100.000\n",
      ">epoch=85, learning_rate=0.100, accuracy=100.000\n",
      ">epoch=86, learning_rate=0.100, accuracy=100.000\n",
      ">epoch=87, learning_rate=0.100, accuracy=100.000\n",
      ">epoch=88, learning_rate=0.100, accuracy=100.000\n",
      ">epoch=89, learning_rate=0.100, accuracy=100.000\n",
      ">epoch=90, learning_rate=0.100, accuracy=100.000\n",
      ">epoch=91, learning_rate=0.100, accuracy=100.000\n",
      ">epoch=92, learning_rate=0.100, accuracy=100.000\n",
      ">epoch=93, learning_rate=0.100, accuracy=100.000\n",
      ">epoch=94, learning_rate=0.100, accuracy=100.000\n",
      ">epoch=95, learning_rate=0.100, accuracy=100.000\n",
      ">epoch=96, learning_rate=0.100, accuracy=100.000\n",
      ">epoch=97, learning_rate=0.100, accuracy=100.000\n",
      ">epoch=98, learning_rate=0.100, accuracy=100.000\n",
      ">epoch=99, learning_rate=0.100, accuracy=100.000\n",
      ">epoch=100, learning_rate=0.100, accuracy=100.000\n",
      "training complete\n",
      "final accuracy: 100.000\n"
     ]
    }
   ],
   "source": [
    "trainer.train(0.1, 100)"
   ]
  },
  {
   "cell_type": "code",
   "execution_count": 29,
   "metadata": {},
   "outputs": [
    {
     "data": {
      "text/plain": [
       "68.0"
      ]
     },
     "execution_count": 29,
     "metadata": {},
     "output_type": "execute_result"
    }
   ],
   "source": [
    "trainer.accuracy(test_data)"
   ]
  },
  {
   "cell_type": "code",
   "execution_count": 30,
   "metadata": {},
   "outputs": [
    {
     "data": {
      "image/png": "[encoded data removed]",
      "text/plain": [
       "<matplotlib.figure.Figure at 0x10b9af400>"
      ]
     },
     "metadata": {},
     "output_type": "display_data"
    },
    {
     "name": "stdout",
     "output_type": "stream",
     "text": [
      "This is a cat!\n"
     ]
    }
   ],
   "source": [
    "index = 3\n",
    "picture = cat_data['test']['cat'][index]\n",
    "show_image(picture)\n",
    "print(isCat(picture))"
   ]
  },
  {
   "cell_type": "code",
   "execution_count": null,
   "metadata": {},
   "outputs": [],
   "source": []
  }
 ],
 "metadata": {
  "kernelspec": {
   "display_name": "Python 3",
   "language": "python",
   "name": "python3"
  },
  "language_info": {
   "codemirror_mode": {
    "name": "ipython",
    "version": 3
   },
   "file_extension": ".py",
   "mimetype": "text/x-python",
   "name": "python",
   "nbconvert_exporter": "python",
   "pygments_lexer": "ipython3",
   "version": "3.6.1"
  }
 },
 "nbformat": 4,
 "nbformat_minor": 2
}
