{
  "cells": [
    {
      "cell_type": "markdown",
      "source": [
        "# Basic Manual RNN"
      ],
      "metadata": {}
    },
    {
      "cell_type": "code",
      "source": [
        "import numpy as np\n",
        "import tensorflow as tf\n",
        "import matplotlib.pyplot as plt\n",
        "%matplotlib inline"
      ],
      "outputs": [],
      "execution_count": 1,
      "metadata": {
        "collapsed": true
      }
    },
    {
      "cell_type": "markdown",
      "source": [
        "### Constants"
      ],
      "metadata": {}
    },
    {
      "cell_type": "code",
      "source": [
        "# Number of inputs for each example\n",
        "num_inputs = 2\n",
        "\n",
        "# Number of neurons in first layer\n",
        "num_neurons = 3"
      ],
      "outputs": [],
      "execution_count": 2,
      "metadata": {
        "collapsed": true
      }
    },
    {
      "cell_type": "markdown",
      "source": [
        "### Placeholders"
      ],
      "metadata": {}
    },
    {
      "cell_type": "code",
      "source": [
        "# We now need two Xs! One for each timestamp (t=0 and t=1)\n",
        "x0 = tf.placeholder(tf.float32,[None,num_inputs])\n",
        "x1 = tf.placeholder(tf.float32,[None,num_inputs])"
      ],
      "outputs": [],
      "execution_count": 3,
      "metadata": {
        "collapsed": true
      }
    },
    {
      "cell_type": "markdown",
      "source": [
        "### Variables"
      ],
      "metadata": {}
    },
    {
      "cell_type": "code",
      "source": [
        "# We'll also need a Weights variable for each x\n",
        "# Notice the shape dimensions on both!\n",
        "Wx = tf.Variable(tf.random_normal(shape=[num_inputs,num_neurons]))\n",
        "Wy = tf.Variable(tf.random_normal(shape=[num_neurons,num_neurons]))"
      ],
      "outputs": [],
      "execution_count": 4,
      "metadata": {
        "collapsed": true
      }
    },
    {
      "cell_type": "code",
      "source": [
        "b = tf.Variable(tf.zeros([1,num_neurons]))"
      ],
      "outputs": [],
      "execution_count": 5,
      "metadata": {
        "collapsed": true
      }
    },
    {
      "cell_type": "markdown",
      "source": [
        "### Graphs"
      ],
      "metadata": {}
    },
    {
      "cell_type": "code",
      "source": [
        "# First Activation\n",
        "y0 = tf.tanh(tf.matmul(x0,Wx) + b)\n",
        "y1 = tf.tanh(tf.matmul(y0,Wy) + tf.matmul(x1,Wx) + b)"
      ],
      "outputs": [],
      "execution_count": 6,
      "metadata": {}
    },
    {
      "cell_type": "markdown",
      "source": [
        "#### Intialize Variables"
      ],
      "metadata": {}
    },
    {
      "cell_type": "code",
      "source": [
        "init = tf.global_variables_initializer()"
      ],
      "outputs": [],
      "execution_count": 7,
      "metadata": {
        "collapsed": true
      }
    },
    {
      "cell_type": "markdown",
      "source": [
        "### Create Data"
      ],
      "metadata": {}
    },
    {
      "cell_type": "code",
      "source": [
        "# BATCH 0:       example1 , example2, example 3\n",
        "x0_batch = np.array([[0,1],  [2,3],    [4,5]]) # DATA AT TIMESTAMP = 0\n",
        "\n",
        "# BATCH 0:          example1 ,   example2,   example 3\n",
        "x1_batch = np.array([[100,101], [102,103],  [104,105]]) # DATA AT TIMESTAMP = 1"
      ],
      "outputs": [],
      "execution_count": 8,
      "metadata": {}
    },
    {
      "cell_type": "markdown",
      "source": [
        "### Run Session"
      ],
      "metadata": {}
    },
    {
      "cell_type": "code",
      "source": [
        "with tf.Session() as sess:\n",
        "    \n",
        "    sess.run(init)\n",
        "    \n",
        "    y0_output_vals , y1_output_vals  = sess.run([y0,y1],feed_dict={x0:x0_batch,x1:x1_batch})"
      ],
      "outputs": [],
      "execution_count": 9,
      "metadata": {}
    },
    {
      "cell_type": "code",
      "source": [
        "# The output of values at t=0\n",
        "y0_output_vals"
      ],
      "outputs": [
        {
          "output_type": "execute_result",
          "execution_count": 11,
          "data": {
            "text/plain": [
              "array([[ 0.56516302, -0.29964006,  0.08456577],\n",
              "       [ 0.19708802, -0.98162013,  0.98176974],\n",
              "       [-0.23642561, -0.99968076,  0.99979949]], dtype=float32)"
            ]
          },
          "metadata": {}
        }
      ],
      "execution_count": 11,
      "metadata": {}
    },
    {
      "cell_type": "code",
      "source": [
        "# Output at t=1\n",
        "y1_output_vals"
      ],
      "outputs": [
        {
          "output_type": "execute_result",
          "execution_count": 12,
          "data": {
            "text/plain": [
              "array([[-1., -1.,  1.],\n",
              "       [-1., -1.,  1.],\n",
              "       [-1., -1.,  1.]], dtype=float32)"
            ]
          },
          "metadata": {}
        }
      ],
      "execution_count": 12,
      "metadata": {}
    }
  ],
  "metadata": {
    "kernelspec": {
      "name": "python3",
      "language": "python",
      "display_name": "Python 3"
    },
    "language_info": {
      "name": "python",
      "version": "3.6.1",
      "mimetype": "text/x-python",
      "codemirror_mode": {
        "name": "ipython",
        "version": 3
      },
      "pygments_lexer": "ipython3",
      "nbconvert_exporter": "python",
      "file_extension": ".py"
    },
    "kernel_info": {
      "name": "python3"
    },
    "nteract": {
      "version": "0.12.3"
    }
  },
  "nbformat": 4,
  "nbformat_minor": 2
}